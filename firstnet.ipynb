{
  "cells": [
    {
      "cell_type": "markdown",
      "metadata": {
        "id": "view-in-github",
        "colab_type": "text"
      },
      "source": [
        "<a href=\"https://colab.research.google.com/github/dzen90/neuralnet/blob/main/firstnet.ipynb\" target=\"_parent\"><img src=\"https://colab.research.google.com/assets/colab-badge.svg\" alt=\"Open In Colab\"/></a>"
      ]
    },
    {
      "cell_type": "code",
      "execution_count": null,
      "metadata": {
        "id": "wDKFomP43Qe7"
      },
      "outputs": [],
      "source": [
        "import numpy\n",
        "import scipy.special\n",
        "import scipy.ndimage\n",
        "import imageio\n",
        "import matplotlib.pyplot\n",
        "%matplotlib inline"
      ]
    },
    {
      "cell_type": "code",
      "source": [
        "!pwd"
      ],
      "metadata": {
        "id": "misfbmUk4gCg",
        "outputId": "3835610d-d821-47ca-aa3c-c290be82b6f6",
        "colab": {
          "base_uri": "https://localhost:8080/"
        }
      },
      "execution_count": null,
      "outputs": [
        {
          "output_type": "stream",
          "name": "stdout",
          "text": [
            "/content\n"
          ]
        }
      ]
    },
    {
      "cell_type": "code",
      "execution_count": null,
      "metadata": {
        "id": "mUvFai2t3QfH"
      },
      "outputs": [],
      "source": [
        "class neuralNetwork():\n",
        "\n",
        "    def __init__(self, inputnodes, hiddennodes, outputnodes, learningrate):\n",
        "        self.inodes = inputnodes\n",
        "        self.hnodes = hiddennodes\n",
        "        self.onodes = outputnodes\n",
        "        self.lr = learningrate\n",
        "\n",
        "        #self.wih = numpy.random.rand(self.hnodes, self.inodes) - 0.5\n",
        "        self.wih = numpy.random.normal(0.0, pow(self.hnodes, -0.5), (self.hnodes, self.inodes))\n",
        "        #self.who = numpy.random.rand(self.onodes, self.hnodes) - 0.5\n",
        "        self.who = numpy.random.normal(0.0, pow(self.onodes, -0.5), (self.onodes, self.hnodes))\n",
        "\n",
        "        self.activation_function = lambda x: scipy.special.expit(x)\n",
        "        self.inverse_activation_function = lambda x: scipy.special.logit(x)\n",
        "\n",
        "    def train(self, inputs_list, targets_list):\n",
        "        inputs = numpy.array(inputs_list, ndmin = 2).T\n",
        "        targets = numpy.array(targets_list, ndmin = 2).T\n",
        "        hidden_inputs = numpy.dot(self.wih, inputs)\n",
        "        hidden_outputs = self.activation_function(hidden_inputs)\n",
        "        final_inputs = numpy.dot(self.who, hidden_outputs)\n",
        "        final_outputs = self.activation_function(final_inputs)\n",
        "\n",
        "        output_errors = targets - final_outputs\n",
        "        hidden_errors = numpy.dot(self.who.T, output_errors)\n",
        "\n",
        "        self.who += self.lr * numpy.dot((output_errors * final_outputs * (1.0 - final_outputs)),\n",
        "                                        numpy.transpose(hidden_outputs))\n",
        "        self.wih += self.lr * numpy.dot((hidden_errors * hidden_outputs * (1.0 - hidden_outputs)),\n",
        "                                        numpy.transpose(inputs))\n",
        "        pass\n",
        "\n",
        "    def query(self, inputs_list):\n",
        "        inputs = numpy.array(inputs_list, ndmin = 2).T\n",
        "        hidden_inputs = numpy.dot(self.wih, inputs)\n",
        "        hidden_outputs = self.activation_function(hidden_inputs)\n",
        "        final_inputs = numpy.dot(self.who, hidden_outputs)\n",
        "        final_outputs = self.activation_function(final_inputs)\n",
        "        return final_outputs\n",
        "\n",
        "    def backquery(self, targets_list):\n",
        "        final_outputs = numpy.array(targets_list, ndmin = 2).T\n",
        "        final_inputs = self.inverse_activation_function(final_outputs)\n",
        "        hidden_outputs = numpy.dot(self.who.T, final_inputs)\n",
        "        hidden_outputs -= numpy.min(hidden_outputs)\n",
        "        hidden_outputs /= numpy.max(hidden_outputs)\n",
        "        hidden_outputs *= 0.98\n",
        "        hidden_outputs += 0.01\n",
        "        hidden_inputs = self.inverse_activation_function(hidden_outputs)\n",
        "        inputs = numpy.dot(self.wih.T, hidden_inputs)\n",
        "        inputs -= numpy.min(inputs)\n",
        "        inputs /= numpy.max(inputs)\n",
        "        inputs *= 0.98\n",
        "        inputs += 0.01\n",
        "\n",
        "        return inputs"
      ]
    },
    {
      "cell_type": "code",
      "execution_count": null,
      "metadata": {
        "id": "YTD5GNx43QfT"
      },
      "outputs": [],
      "source": [
        "input_nodes = 28 * 28\n",
        "hidden_nodes = 100\n",
        "output_nodes = 10\n",
        "\n",
        "learning_rate = 0.01\n",
        "\n",
        "n = neuralNetwork(input_nodes, hidden_nodes, output_nodes, learning_rate)\n",
        "\n",
        "training_data_file = open('mnist_dataset/mnist_train.csv', 'r')\n",
        "training_data_list = training_data_file.readlines()\n",
        "training_data_file.close()\n"
      ]
    },
    {
      "cell_type": "code",
      "execution_count": null,
      "metadata": {
        "id": "Irggk4Ou3QfV",
        "outputId": "40d8c166-0bae-472b-ed56-1e34ef7fbb26"
      },
      "outputs": [
        {
          "data": {
            "text/plain": [
              "<matplotlib.image.AxesImage at 0x7f78e0c21350>"
            ]
          },
          "execution_count": 274,
          "metadata": {},
          "output_type": "execute_result"
        },
        {
          "data": {
            "image/png": "[encoded data removed]",
            "text/plain": [
              "<Figure size 432x288 with 1 Axes>"
            ]
          },
          "metadata": {
            "needs_background": "light"
          },
          "output_type": "display_data"
        }
      ],
      "source": [
        "# rotate image\n",
        "all_values = training_data_list[0].split(',')\n",
        "image_array = numpy.asfarray(all_values[1:]).reshape((28, 28))\n",
        "inputs_plus10_img = scipy.ndimage.interpolation.rotate(image_array, 10, cval=0.01, reshape=False)\n",
        "matplotlib.pyplot.imshow(image_array, cmap=\"Greys\", interpolation=\"None\")\n",
        "matplotlib.pyplot.imshow(inputs_plus10_img, cmap=\"Greys\", interpolation=\"None\")"
      ]
    },
    {
      "cell_type": "code",
      "execution_count": null,
      "metadata": {
        "scrolled": true,
        "id": "jqHHwa0p3Qfc"
      },
      "outputs": [],
      "source": [
        "epochs = 5\n",
        "for e in range(epochs):\n",
        "    for record in training_data_list:\n",
        "        all_values = record.split(',')\n",
        "        inputs = (numpy.asfarray(all_values[1:]) / 255.0 * 0.99) + 0.01\n",
        "        image_array = inputs.reshape(28, 28)\n",
        "        inputs_plus10_img = \\\n",
        "            scipy.ndimage.interpolation.rotate(image_array, 10, cval=0.01, reshape=False).reshape(784)\n",
        "        inputs_minus10_img = \\\n",
        "            scipy.ndimage.interpolation.rotate(image_array, -10, cval=0.01, reshape=False).reshape(784)\n",
        "        #image_array = numpy.asfarray(all_values[1:]).reshape((28, 28))\n",
        "        #matplotlib.pyplot.imshow(image_array, cmap=\"Greys\", interpolation=\"None\")\n",
        "        targets = numpy.zeros(output_nodes) + 0.01\n",
        "        targets[int(all_values[0])] = 0.99\n",
        "        n.train(inputs, targets)\n",
        "        n.train(inputs_plus10_img, targets)\n",
        "        n.train(inputs_minus10_img, targets)\n",
        "        pass\n",
        "    pass\n"
      ]
    },
    {
      "cell_type": "code",
      "execution_count": null,
      "metadata": {
        "id": "icppgEjx3Qfd",
        "outputId": "ae862b4d-e6dc-4b0e-fced-725311bf0873"
      },
      "outputs": [
        {
          "name": "stdout",
          "output_type": "stream",
          "text": [
            "0 0\n",
            "1 8\n",
            "2 2\n",
            "3 3\n",
            "4 4\n",
            "5 5\n",
            "6 6\n",
            "7 3\n",
            "8 8\n",
            "9 3\n"
          ]
        }
      ],
      "source": [
        "number_of_images = 10\n",
        "for img_num in range(number_of_images):\n",
        "    #img_array = scipy.misc.imread('images/img0.png', flatten=True)\n",
        "    img_array = imageio.imread('images/img' + str(img_num) + '.png', as_gray=True)\n",
        "    #matplotlib.pyplot.imshow(255.0 - img_array, cmap=\"Greys\", interpolation=\"None\")\n",
        "    img_data = 255.0 - img_array.reshape(28*28)\n",
        "    inputs = numpy.asfarray(img_data) / 255.0 * 0.99 + 0.01\n",
        "    img_data = (img_data / 255.0 * 0.99) + 0.01\n",
        "\n",
        "    outputs = n.query(inputs)\n",
        "    label = numpy.argmax(outputs)\n",
        "    print(img_num, label)"
      ]
    },
    {
      "cell_type": "code",
      "execution_count": null,
      "metadata": {
        "id": "3QdLhc5R3Qfg",
        "outputId": "38b40ab6-6b1b-4f30-d701-a84b91fcde0b"
      },
      "outputs": [
        {
          "name": "stdout",
          "output_type": "stream",
          "text": [
            "[0.01       0.01       0.01       0.01       0.01       0.01\n",
            " 0.01       0.01       0.01       0.01       0.01       0.01\n",
            " 0.01       0.01       0.01       0.01       0.01       0.01\n",
            " 0.01       0.01       0.01       0.01       0.01       0.01\n",
            " 0.01       0.01       0.01       0.01       0.01       0.01\n",
            " 0.01       0.01       0.01       0.01       0.01       0.01\n",
            " 0.01       0.01       0.01       0.01       0.01       0.01\n",
            " 0.01       0.01       0.01       0.01       0.01       0.01\n",
            " 0.01       0.01       0.01       0.01       0.01       0.01\n",
            " 0.01       0.01       0.01       0.01       0.01       0.01\n",
            " 0.01       0.01       0.01       0.01       0.01       0.01\n",
            " 0.01       0.01       0.01       0.01       0.01       0.01\n",
            " 0.01       0.01       0.01       0.01       0.01       0.01\n",
            " 0.01       0.01       0.01       0.01       0.01       0.01\n",
            " 0.01       0.01       0.01       0.01       0.01       0.01\n",
            " 0.01       0.01       0.01       0.01       0.36329412 0.406\n",
            " 0.604      1.         1.         0.51470588 0.25847059 0.01\n",
            " 0.01       0.01       0.01       0.01       0.01       0.01\n",
            " 0.01       0.01       0.01       0.01       0.01       0.01\n",
            " 0.01       0.01       0.01       0.01       0.01       0.01\n",
            " 0.01       0.59235294 0.99223529 0.99223529 0.99223529 0.99223529\n",
            " 0.99223529 0.99223529 0.82917647 0.06823529 0.01       0.01\n",
            " 0.01       0.01       0.01       0.01       0.01       0.01\n",
            " 0.01       0.01       0.01       0.01       0.01       0.01\n",
            " 0.01       0.01       0.01       0.01       0.59235294 0.99223529\n",
            " 0.99223529 0.99223529 0.802      0.47976471 0.62341176 0.99223529\n",
            " 0.99223529 0.39435294 0.01       0.01       0.01       0.01\n",
            " 0.01       0.01       0.01       0.01       0.01       0.01\n",
            " 0.01       0.01       0.01       0.01       0.01       0.01\n",
            " 0.01       0.12647059 0.98058824 0.99223529 0.78647059 0.07211765\n",
            " 0.03329412 0.01       0.02164706 0.76317647 0.99223529 0.472\n",
            " 0.01       0.01       0.01       0.01       0.01       0.01\n",
            " 0.01       0.01       0.01       0.01       0.01       0.01\n",
            " 0.01       0.01       0.01       0.01       0.01       0.20411765\n",
            " 0.98447059 0.78647059 0.05658824 0.01       0.01       0.01\n",
            " 0.39435294 0.96894118 0.99223529 0.16529412 0.01       0.01\n",
            " 0.01       0.01       0.01       0.01       0.01       0.01\n",
            " 0.01       0.01       0.01       0.01       0.01       0.01\n",
            " 0.01       0.01       0.01       0.01       0.06823529 0.04494118\n",
            " 0.01       0.01       0.01       0.01       0.78258824 0.99223529\n",
            " 0.99223529 0.16529412 0.01       0.01       0.01       0.01\n",
            " 0.01       0.01       0.01       0.01       0.01       0.01\n",
            " 0.01       0.01       0.01       0.01       0.01       0.01\n",
            " 0.01       0.01       0.01       0.01       0.01       0.01\n",
            " 0.01       0.37105882 0.96505882 0.99223529 0.72047059 0.02941176\n",
            " 0.01       0.01       0.01       0.01       0.01       0.01\n",
            " 0.01       0.01       0.01       0.01       0.01       0.01\n",
            " 0.01       0.01       0.01       0.01       0.01       0.01\n",
            " 0.01       0.01       0.01       0.01       0.20023529 0.96505882\n",
            " 0.99223529 0.89517647 0.15752941 0.01       0.01       0.01\n",
            " 0.01       0.01       0.01       0.01       0.01       0.01\n",
            " 0.01       0.01       0.01       0.01       0.01       0.01\n",
            " 0.01       0.01       0.01       0.01       0.01       0.01\n",
            " 0.01       0.01       0.42152941 0.99223529 0.99223529 0.49141176\n",
            " 0.01       0.01       0.01       0.01       0.01       0.01\n",
            " 0.01       0.01       0.01       0.01       0.01       0.01\n",
            " 0.01       0.01       0.01       0.01       0.01       0.01\n",
            " 0.01       0.01       0.01       0.01       0.01       0.62341176\n",
            " 0.96117647 0.99223529 0.55352941 0.03329412 0.01       0.01\n",
            " 0.01       0.01       0.01       0.01       0.01       0.01\n",
            " 0.01       0.01       0.01       0.01       0.01       0.01\n",
            " 0.01       0.01       0.01       0.01       0.01       0.01\n",
            " 0.01       0.01       0.05658824 0.90682353 0.99223529 0.90294118\n",
            " 0.07988235 0.01       0.01       0.01       0.01       0.01\n",
            " 0.01       0.01       0.01       0.01       0.01       0.01\n",
            " 0.01       0.01       0.01       0.01       0.01       0.01\n",
            " 0.01       0.01       0.01       0.01       0.01       0.01\n",
            " 0.72047059 0.99223529 0.99223529 0.47588235 0.01       0.01\n",
            " 0.01       0.01       0.01       0.01       0.01       0.01\n",
            " 0.01       0.01       0.01       0.01       0.01       0.01\n",
            " 0.01       0.01       0.01       0.01       0.01       0.01\n",
            " 0.01       0.01       0.01       0.208      0.96894118 0.99223529\n",
            " 0.67388235 0.03329412 0.01       0.01       0.01       0.01\n",
            " 0.01       0.01       0.01       0.01       0.01       0.01\n",
            " 0.01       0.01       0.01       0.01       0.01       0.01\n",
            " 0.01       0.01       0.01       0.01       0.01       0.01\n",
            " 0.04494118 0.73211765 0.99223529 0.99223529 0.47588235 0.01\n",
            " 0.01       0.01       0.01       0.01       0.01       0.01\n",
            " 0.01       0.01       0.01       0.01       0.01       0.01\n",
            " 0.01       0.01       0.01       0.01       0.01       0.01\n",
            " 0.01       0.01       0.01       0.01       0.44870588 0.99223529\n",
            " 0.99223529 0.61176471 0.03329412 0.01       0.01       0.01\n",
            " 0.01       0.01       0.01       0.01       0.01       0.01\n",
            " 0.01       0.01       0.01       0.01       0.01       0.01\n",
            " 0.01       0.01       0.01       0.01       0.01       0.01\n",
            " 0.01       0.01       0.96894118 0.99223529 0.99223529 0.05658824\n",
            " 0.01       0.01       0.01       0.01       0.01       0.01\n",
            " 0.01       0.01       0.01       0.01       0.01       0.01\n",
            " 0.01       0.01       0.01       0.01       0.01       0.01\n",
            " 0.01       0.01       0.01       0.01       0.01       0.01\n",
            " 0.96894118 0.99223529 0.99223529 0.10317647 0.04882353 0.04882353\n",
            " 0.04882353 0.04882353 0.02164706 0.01       0.02164706 0.04882353\n",
            " 0.04882353 0.08376471 0.51470588 0.51470588 0.51470588 0.50305882\n",
            " 0.02941176 0.01       0.01       0.01       0.01       0.01\n",
            " 0.01       0.01       0.01       0.01       0.96894118 0.99223529\n",
            " 0.99223529 0.99223529 0.99223529 0.99223529 0.99223529 0.99223529\n",
            " 0.58847059 0.48752941 0.58070588 0.99223529 0.99223529 0.99223529\n",
            " 0.99223529 0.99223529 0.99223529 0.99223529 0.39823529 0.01\n",
            " 0.01       0.01       0.01       0.01       0.01       0.01\n",
            " 0.01       0.01       0.61564706 0.99223529 0.99223529 0.99223529\n",
            " 0.99223529 0.99223529 0.99223529 0.99223529 0.99223529 0.99223529\n",
            " 0.99223529 0.99223529 0.97670588 0.96505882 0.96505882 0.59235294\n",
            " 0.37105882 0.37105882 0.142      0.01       0.01       0.01\n",
            " 0.01       0.01       0.01       0.01       0.01       0.01\n",
            " 0.01       0.37494118 0.39823529 0.39823529 0.39823529 0.58070588\n",
            " 0.99223529 0.99223529 0.99223529 0.538      0.39823529 0.39823529\n",
            " 0.09541176 0.01       0.01       0.01       0.01       0.01\n",
            " 0.01       0.01       0.01       0.01       0.01       0.01\n",
            " 0.01       0.01       0.01       0.01       0.01       0.01\n",
            " 0.01       0.01       0.01       0.01       0.01       0.01\n",
            " 0.01       0.01       0.01       0.01       0.01       0.01\n",
            " 0.01       0.01       0.01       0.01       0.01       0.01\n",
            " 0.01       0.01       0.01       0.01       0.01       0.01\n",
            " 0.01       0.01       0.01       0.01       0.01       0.01\n",
            " 0.01       0.01       0.01       0.01       0.01       0.01\n",
            " 0.01       0.01       0.01       0.01       0.01       0.01\n",
            " 0.01       0.01       0.01       0.01       0.01       0.01\n",
            " 0.01       0.01       0.01       0.01       0.01       0.01\n",
            " 0.01       0.01       0.01       0.01       0.01       0.01\n",
            " 0.01       0.01       0.01       0.01       0.01       0.01\n",
            " 0.01       0.01       0.01       0.01       0.01       0.01\n",
            " 0.01       0.01       0.01       0.01       0.01       0.01\n",
            " 0.01       0.01       0.01       0.01       0.01       0.01\n",
            " 0.01       0.01       0.01       0.01       0.01       0.01\n",
            " 0.01       0.01       0.01       0.01       0.01       0.01\n",
            " 0.01       0.01       0.01       0.01       0.01       0.01\n",
            " 0.01       0.01       0.01       0.01       0.01       0.01\n",
            " 0.01       0.01       0.01       0.01       0.01       0.01\n",
            " 0.01       0.01       0.01       0.01       0.01       0.01\n",
            " 0.01       0.01       0.01       0.01       0.01       0.01\n",
            " 0.01       0.01       0.01       0.01      ]\n",
            "[[2.78928928e-02]\n",
            " [1.05277621e-02]\n",
            " [9.96309087e-01]\n",
            " [3.20852721e-03]\n",
            " [7.44552377e-03]\n",
            " [9.46111784e-04]\n",
            " [2.96500517e-03]\n",
            " [5.53307078e-04]\n",
            " [5.41687203e-04]\n",
            " [1.71211148e-03]]\n"
          ]
        },
        {
          "data": {
            "image/png": "[encoded data removed]",
            "text/plain": [
              "<Figure size 432x288 with 1 Axes>"
            ]
          },
          "metadata": {
            "needs_background": "light"
          },
          "output_type": "display_data"
        }
      ],
      "source": [
        "img_array = imageio.imread('images/test2.png', as_gray=True)\n",
        "matplotlib.pyplot.imshow(255.0 - img_array, cmap=\"Greys\", interpolation=\"None\")\n",
        "img_data = 255.0 - img_array.reshape(28*28)\n",
        "inputs = numpy.asfarray(img_data) / 255.0 * 0.99 + 0.01\n",
        "print(inputs)\n",
        "img_data = (img_data / 255.0 * 0.99) + 0.01\n",
        "outputs = n.query(inputs)\n",
        "label = numpy.argmax(outputs)\n",
        "print(outputs)"
      ]
    },
    {
      "cell_type": "code",
      "execution_count": null,
      "metadata": {
        "id": "pzqTSbGg3Qfj"
      },
      "outputs": [],
      "source": [
        "test_data_file = open('mnist_dataset/mnist_test.csv', 'r')\n",
        "test_data_list = test_data_file.readlines()\n",
        "test_data_file.close()"
      ]
    },
    {
      "cell_type": "code",
      "execution_count": null,
      "metadata": {
        "id": "4eqbJduQ3Qfm"
      },
      "outputs": [],
      "source": [
        "i = 0\n",
        "for datastring in test_data_list:\n",
        "    all_values = datastring.split(',')\n",
        "    image_array = numpy.asfarray(all_values[1:]).reshape((28, 28))\n",
        "    matplotlib.pyplot.imsave('images/test' + str(i) + '.png', image_array, cmap=\"Greys\")\n",
        "    i += 1"
      ]
    },
    {
      "cell_type": "code",
      "execution_count": null,
      "metadata": {
        "id": "REKBRI-d3Qfp",
        "outputId": "2b564b3c-5f10-4456-9fd7-9566cb3b1be4"
      },
      "outputs": [
        {
          "name": "stdout",
          "output_type": "stream",
          "text": [
            "[0.01       0.01       0.01       0.01       0.01       0.01\n",
            " 0.01       0.01       0.01       0.01       0.01       0.01\n",
            " 0.01       0.01       0.01       0.01       0.01       0.01\n",
            " 0.01       0.01       0.01       0.01       0.01       0.01\n",
            " 0.01       0.01       0.01       0.01       0.01       0.01\n",
            " 0.01       0.01       0.01       0.01       0.01       0.01\n",
            " 0.01       0.01       0.01       0.01       0.01       0.01\n",
            " 0.01       0.01       0.01       0.01       0.01       0.01\n",
            " 0.01       0.01       0.01       0.01       0.01       0.01\n",
            " 0.01       0.01       0.01       0.01       0.01       0.01\n",
            " 0.01       0.01       0.01       0.01       0.01       0.01\n",
            " 0.01       0.01       0.01       0.01       0.01       0.01\n",
            " 0.01       0.01       0.01       0.01       0.01       0.01\n",
            " 0.01       0.01       0.01       0.01       0.01       0.01\n",
            " 0.01       0.01       0.01       0.01       0.01       0.01\n",
            " 0.01       0.01       0.01       0.01       0.46035294 0.49529412\n",
            " 0.67388235 1.         1.         0.59235294 0.37105882 0.01\n",
            " 0.01       0.01       0.01       0.01       0.01       0.01\n",
            " 0.01       0.01       0.01       0.01       0.01       0.01\n",
            " 0.01       0.01       0.01       0.01       0.01       0.01\n",
            " 0.01       0.66611765 0.99223529 0.99223529 0.99223529 0.99223529\n",
            " 0.99223529 0.99223529 0.85635294 0.12647059 0.01       0.01\n",
            " 0.01       0.01       0.01       0.01       0.01       0.01\n",
            " 0.01       0.01       0.01       0.01       0.01       0.01\n",
            " 0.01       0.01       0.01       0.01       0.66611765 0.99223529\n",
            " 0.99223529 0.99223529 0.83694118 0.56129412 0.69329412 0.99223529\n",
            " 0.99223529 0.48364706 0.01       0.01       0.01       0.01\n",
            " 0.01       0.01       0.01       0.01       0.01       0.01\n",
            " 0.01       0.01       0.01       0.01       0.01       0.01\n",
            " 0.01       0.21188235 0.98058824 0.99223529 0.82529412 0.13423529\n",
            " 0.05658824 0.01       0.03329412 0.80976471 0.99223529 0.55352941\n",
            " 0.01       0.01       0.01       0.01       0.01       0.01\n",
            " 0.01       0.01       0.01       0.01       0.01       0.01\n",
            " 0.01       0.01       0.01       0.01       0.01       0.30894118\n",
            " 0.98447059 0.82529412 0.10705882 0.01       0.01       0.01\n",
            " 0.48364706 0.97282353 0.99223529 0.26235294 0.01       0.01\n",
            " 0.01       0.01       0.01       0.01       0.01       0.01\n",
            " 0.01       0.01       0.01       0.01       0.01       0.01\n",
            " 0.01       0.01       0.01       0.01       0.13035294 0.07988235\n",
            " 0.01       0.01       0.01       0.01       0.82141176 0.99223529\n",
            " 0.99223529 0.26235294 0.01       0.01       0.01       0.01\n",
            " 0.01       0.01       0.01       0.01       0.01       0.01\n",
            " 0.01       0.01       0.01       0.01       0.01       0.01\n",
            " 0.01       0.01       0.01       0.01       0.01       0.01\n",
            " 0.01       0.46423529 0.96894118 0.99223529 0.77870588 0.04882353\n",
            " 0.01       0.01       0.01       0.01       0.01       0.01\n",
            " 0.01       0.01       0.01       0.01       0.01       0.01\n",
            " 0.01       0.01       0.01       0.01       0.01       0.01\n",
            " 0.01       0.01       0.01       0.01       0.30505882 0.96894118\n",
            " 0.99223529 0.90682353 0.25458824 0.01       0.01       0.01\n",
            " 0.01       0.01       0.01       0.01       0.01       0.01\n",
            " 0.01       0.01       0.01       0.01       0.01       0.01\n",
            " 0.01       0.01       0.01       0.01       0.01       0.01\n",
            " 0.01       0.01       0.50694118 0.99223529 0.99223529 0.56905882\n",
            " 0.01       0.01       0.01       0.01       0.01       0.01\n",
            " 0.01       0.01       0.01       0.01       0.01       0.01\n",
            " 0.01       0.01       0.01       0.01       0.01       0.01\n",
            " 0.01       0.01       0.01       0.01       0.01       0.69329412\n",
            " 0.96505882 0.99223529 0.62729412 0.05658824 0.01       0.01\n",
            " 0.01       0.01       0.01       0.01       0.01       0.01\n",
            " 0.01       0.01       0.01       0.01       0.01       0.01\n",
            " 0.01       0.01       0.01       0.01       0.01       0.01\n",
            " 0.01       0.01       0.10705882 0.91847059 0.99223529 0.91458824\n",
            " 0.14588235 0.01       0.01       0.01       0.01       0.01\n",
            " 0.01       0.01       0.01       0.01       0.01       0.01\n",
            " 0.01       0.01       0.01       0.01       0.01       0.01\n",
            " 0.01       0.01       0.01       0.01       0.01       0.01\n",
            " 0.77870588 0.99223529 0.99223529 0.55741176 0.01       0.01\n",
            " 0.01       0.01       0.01       0.01       0.01       0.01\n",
            " 0.01       0.01       0.01       0.01       0.01       0.01\n",
            " 0.01       0.01       0.01       0.01       0.01       0.01\n",
            " 0.01       0.01       0.01       0.31282353 0.97282353 0.99223529\n",
            " 0.74376471 0.05658824 0.01       0.01       0.01       0.01\n",
            " 0.01       0.01       0.01       0.01       0.01       0.01\n",
            " 0.01       0.01       0.01       0.01       0.01       0.01\n",
            " 0.01       0.01       0.01       0.01       0.01       0.01\n",
            " 0.08376471 0.78647059 0.99223529 0.99223529 0.55741176 0.01\n",
            " 0.01       0.01       0.01       0.01       0.01       0.01\n",
            " 0.01       0.01       0.01       0.01       0.01       0.01\n",
            " 0.01       0.01       0.01       0.01       0.01       0.01\n",
            " 0.01       0.01       0.01       0.01       0.53023529 0.99223529\n",
            " 0.99223529 0.68164706 0.05658824 0.01       0.01       0.01\n",
            " 0.01       0.01       0.01       0.01       0.01       0.01\n",
            " 0.01       0.01       0.01       0.01       0.01       0.01\n",
            " 0.01       0.01       0.01       0.01       0.01       0.01\n",
            " 0.01       0.01       0.97282353 0.99223529 0.99223529 0.10705882\n",
            " 0.01       0.01       0.01       0.01       0.01       0.01\n",
            " 0.01       0.01       0.01       0.01       0.01       0.01\n",
            " 0.01       0.01       0.01       0.01       0.01       0.01\n",
            " 0.01       0.01       0.01       0.01       0.01       0.01\n",
            " 0.97282353 0.99223529 0.99223529 0.17694118 0.08764706 0.08764706\n",
            " 0.08764706 0.08764706 0.02941176 0.01       0.02941176 0.08764706\n",
            " 0.08764706 0.15364706 0.59235294 0.59235294 0.59235294 0.58070588\n",
            " 0.04882353 0.01       0.01       0.01       0.01       0.01\n",
            " 0.01       0.01       0.01       0.01       0.97282353 0.99223529\n",
            " 0.99223529 0.99223529 0.99223529 0.99223529 0.99223529 0.99223529\n",
            " 0.66223529 0.56517647 0.65447059 0.99223529 0.99223529 0.99223529\n",
            " 0.99223529 0.99223529 0.99223529 0.99223529 0.48752941 0.01\n",
            " 0.01       0.01       0.01       0.01       0.01       0.01\n",
            " 0.01       0.01       0.68552941 0.99223529 0.99223529 0.99223529\n",
            " 0.99223529 0.99223529 0.99223529 0.99223529 0.99223529 0.99223529\n",
            " 0.99223529 0.99223529 0.97670588 0.96894118 0.96894118 0.66611765\n",
            " 0.46423529 0.46423529 0.23129412 0.01       0.01       0.01\n",
            " 0.01       0.01       0.01       0.01       0.01       0.01\n",
            " 0.01       0.46811765 0.48752941 0.48752941 0.48752941 0.65447059\n",
            " 0.99223529 0.99223529 0.99223529 0.61176471 0.48752941 0.48752941\n",
            " 0.16917647 0.01       0.01       0.01       0.01       0.01\n",
            " 0.01       0.01       0.01       0.01       0.01       0.01\n",
            " 0.01       0.01       0.01       0.01       0.01       0.01\n",
            " 0.01       0.01       0.01       0.01       0.01       0.01\n",
            " 0.01       0.01       0.01       0.01       0.01       0.01\n",
            " 0.01       0.01       0.01       0.01       0.01       0.01\n",
            " 0.01       0.01       0.01       0.01       0.01       0.01\n",
            " 0.01       0.01       0.01       0.01       0.01       0.01\n",
            " 0.01       0.01       0.01       0.01       0.01       0.01\n",
            " 0.01       0.01       0.01       0.01       0.01       0.01\n",
            " 0.01       0.01       0.01       0.01       0.01       0.01\n",
            " 0.01       0.01       0.01       0.01       0.01       0.01\n",
            " 0.01       0.01       0.01       0.01       0.01       0.01\n",
            " 0.01       0.01       0.01       0.01       0.01       0.01\n",
            " 0.01       0.01       0.01       0.01       0.01       0.01\n",
            " 0.01       0.01       0.01       0.01       0.01       0.01\n",
            " 0.01       0.01       0.01       0.01       0.01       0.01\n",
            " 0.01       0.01       0.01       0.01       0.01       0.01\n",
            " 0.01       0.01       0.01       0.01       0.01       0.01\n",
            " 0.01       0.01       0.01       0.01       0.01       0.01\n",
            " 0.01       0.01       0.01       0.01       0.01       0.01\n",
            " 0.01       0.01       0.01       0.01       0.01       0.01\n",
            " 0.01       0.01       0.01       0.01       0.01       0.01\n",
            " 0.01       0.01       0.01       0.01       0.01       0.01\n",
            " 0.01       0.01       0.01       0.01      ]\n"
          ]
        }
      ],
      "source": [
        "all_values = test_data_list[1].split(',')\n",
        "#print(all_values[0])\n",
        "#print(all_values[1:])\n",
        "inputs = numpy.asfarray(all_values[1:]) / 255.0 * 0.99 + 0.01\n",
        "print(inputs)"
      ]
    },
    {
      "cell_type": "code",
      "execution_count": null,
      "metadata": {
        "scrolled": true,
        "id": "OaXM9kXI3Qft",
        "outputId": "e1fd7b39-b3ae-41de-89eb-df7c52409ec1"
      },
      "outputs": [
        {
          "data": {
            "image/png": "[encoded data removed]",
            "text/plain": [
              "<Figure size 432x288 with 1 Axes>"
            ]
          },
          "metadata": {
            "needs_background": "light"
          },
          "output_type": "display_data"
        }
      ],
      "source": [
        "image_array = numpy.asfarray(all_values[1:]).reshape((28, 28))\n",
        "matplotlib.pyplot.imshow(image_array, cmap=\"Greys\", interpolation=\"None\")\n",
        "matplotlib.pyplot.imsave('images/test2.png', image_array, cmap=\"Greys\")"
      ]
    },
    {
      "cell_type": "code",
      "execution_count": null,
      "metadata": {
        "id": "UIr2EkTE3Qfw",
        "outputId": "2596f0fd-5850-4ffe-f593-73cb3bfbd97c"
      },
      "outputs": [
        {
          "name": "stdout",
          "output_type": "stream",
          "text": [
            "Efficiency: 0.9684\n"
          ]
        }
      ],
      "source": [
        "scorecard = []\n",
        "for record in test_data_list:\n",
        "    all_values = record.split(',')\n",
        "    correct_label = int(all_values[0])\n",
        "    #print('Correct label:', correct_label)\n",
        "    inputs = numpy.asfarray(all_values[1:]) / 255.0 * 0.99 + 0.01\n",
        "    outputs = n.query(inputs)\n",
        "    label = numpy.argmax(outputs)\n",
        "    #5print('Network response:', label)\n",
        "    if (label == correct_label):\n",
        "        scorecard.append(1)\n",
        "    else:\n",
        "        scorecard.append(0)\n",
        "        pass\n",
        "    pass\n",
        "scorecard_array = numpy.asarray(scorecard)\n",
        "print('Efficiency:', scorecard_array.sum() / scorecard_array.size)"
      ]
    },
    {
      "cell_type": "code",
      "execution_count": null,
      "metadata": {
        "id": "oGJ_iFum3Qfx",
        "outputId": "d3451be7-ce1a-4bc4-c84e-bbcea7478903"
      },
      "outputs": [
        {
          "name": "stdout",
          "output_type": "stream",
          "text": [
            "[0.01 0.01 0.01 0.01 0.01 0.01 0.01 0.01 0.01 0.99]\n"
          ]
        },
        {
          "data": {
            "text/plain": [
              "<matplotlib.image.AxesImage at 0x7f78e0e02190>"
            ]
          },
          "execution_count": 252,
          "metadata": {},
          "output_type": "execute_result"
        },
        {
          "data": {
            "image/png": "[encoded data removed]",
            "text/plain": [
              "<Figure size 432x288 with 1 Axes>"
            ]
          },
          "metadata": {
            "needs_background": "light"
          },
          "output_type": "display_data"
        }
      ],
      "source": [
        "# run backwards\n",
        "label = 9\n",
        "targets = numpy.zeros(output_nodes) + 0.01\n",
        "targets[label] = 0.99\n",
        "print(targets)\n",
        "image_data = n.backquery(targets)\n",
        "matplotlib.pyplot.imshow(image_data.reshape(28, 28), cmap='Greys', interpolation='None')"
      ]
    }
  ],
  "metadata": {
    "kernelspec": {
      "display_name": "Python 3",
      "language": "python",
      "name": "python3"
    },
    "language_info": {
      "codemirror_mode": {
        "name": "ipython",
        "version": 3
      },
      "file_extension": ".py",
      "mimetype": "text/x-python",
      "name": "python",
      "nbconvert_exporter": "python",
      "pygments_lexer": "ipython3",
      "version": "3.7.4"
    },
    "colab": {
      "provenance": [],
      "include_colab_link": true
    }
  },
  "nbformat": 4,
  "nbformat_minor": 0
}